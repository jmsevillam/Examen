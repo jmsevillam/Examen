{
 "cells": [
  {
   "cell_type": "raw",
   "metadata": {
    "raw_mimetype": "text/latex",
    "slideshow": {
     "slide_type": "slide"
    }
   },
   "source": [
    "Pregunta 2. Ecuaciones diferenciales parciales - Diferencias Finitas\n",
    "\n",
    "Ecuación de Laplace,\n",
    "\n",
    "Nota:\n",
    "\n"
   ]
  },
  {
   "cell_type": "code",
   "execution_count": 3,
   "metadata": {},
   "outputs": [],
   "source": [
    "import numpy as np\n",
    "import matplotlib.pylab as plt"
   ]
  },
  {
   "cell_type": "code",
   "execution_count": 70,
   "metadata": {},
   "outputs": [],
   "source": [
    "N=20\n",
    "Matrix=np.array([[0.0]*N for i in range(N)])"
   ]
  },
  {
   "cell_type": "code",
   "execution_count": 71,
   "metadata": {},
   "outputs": [],
   "source": [
    "def Initial_conditions(Matrix):\n",
    "    for i in range(1,N-1):\n",
    "        for j in range(1,N-1):\n",
    "            if i==N/4 and  j>=N/4 and j<=3*N/4:\n",
    "                Matrix[i,j]=1"
   ]
  },
  {
   "cell_type": "code",
   "execution_count": 72,
   "metadata": {},
   "outputs": [],
   "source": [
    "def Step(Matrix):\n",
    "    Matrix2=Matrix.copy()\n",
    "    for i in range(1,N-1):\n",
    "        for j in range(1,N-1):\n",
    "            if boundary(i,j):\n",
    "                Matrix[i,j]=(Matrix2[i-1,j]+Matrix2[i+1,j]+Matrix2[i,j-1]+Matrix2[i,j+1])/4"
   ]
  },
  {
   "cell_type": "code",
   "execution_count": 73,
   "metadata": {},
   "outputs": [],
   "source": [
    "def boundary(i1,j1):\n",
    "    if i1==N/4 and  j1>=N/4 and j1<=3*N/4:\n",
    "        return False\n",
    "    else:\n",
    "        return True"
   ]
  },
  {
   "cell_type": "code",
   "execution_count": 75,
   "metadata": {},
   "outputs": [],
   "source": [
    "Times=100\n",
    "Initial_conditions(Matrix)\n",
    "for i in range(Times):\n",
    "    Step(Matrix)"
   ]
  },
  {
   "cell_type": "code",
   "execution_count": 54,
   "metadata": {},
   "outputs": [
    {
     "data": {
      "text/plain": [
       "array([[1.        , 1.        , 1.        , 1.        , 1.        ],\n",
       "       [1.        , 1.        , 1.06347656, 1.        , 1.        ],\n",
       "       [1.        , 1.06347656, 1.        , 1.06152344, 1.        ],\n",
       "       [1.        , 1.        , 1.06152344, 1.        , 1.        ],\n",
       "       [1.        , 1.        , 1.        , 1.        , 1.        ]])"
      ]
     },
     "execution_count": 54,
     "metadata": {},
     "output_type": "execute_result"
    }
   ],
   "source": [
    "fig=plt.figure()\n",
    "ax=fig.add_subplot(111)\n",
    "ax.imshow(Matrix)\n",
    "ax.plot(x,np.zeros(len(x)), '--k')"
   ]
  },
  {
   "cell_type": "code",
   "execution_count": null,
   "metadata": {},
   "outputs": [],
   "source": []
  },
  {
   "cell_type": "code",
   "execution_count": null,
   "metadata": {},
   "outputs": [],
   "source": []
  }
 ],
 "metadata": {
  "kernelspec": {
   "display_name": "Python 3",
   "language": "python",
   "name": "python3"
  },
  "language_info": {
   "codemirror_mode": {
    "name": "ipython",
    "version": 3
   },
   "file_extension": ".py",
   "mimetype": "text/x-python",
   "name": "python",
   "nbconvert_exporter": "python",
   "pygments_lexer": "ipython3",
   "version": "3.6.6"
  }
 },
 "nbformat": 4,
 "nbformat_minor": 2
}
