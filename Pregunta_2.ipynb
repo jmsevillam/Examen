{
 "cells": [
  {
   "cell_type": "markdown",
   "metadata": {},
   "source": [
    "Pregunta 2. Ecuaciones diferenciales parciales - Diferencias Finitas\n",
    "\n",
    "Ecuación de Laplace,\n",
    "\n",
    "Nota: Cuando se resuelven eucaciones diferenciales, es importante notar que la unicidad de la solución requiere tener condiciones de frontera (Iniciales), por lo que, no solamente se tomará una ecuación diferencial particular, sino también unas condiciones de frontera.Ecuación de Laplace.\n",
    "\n",
    "La ecuación de Laplace es una de las ecuaciones diferenciales parciales más conocidas, \n",
    "$$\n",
    "\\nabla \\phi =0\n",
    "$$\n",
    "\n",
    "para solucionarla tomaremos una caja cuadrada, con los bordes conectados a tierra, y dentro, dos placas paralelas más pequeñas a distintos valores de potencial fijo.\n"
   ]
  },
  {
   "cell_type": "code",
   "execution_count": 3,
   "metadata": {},
   "outputs": [],
   "source": [
    "import numpy as np   #El tipo de dato\n",
    "import matplotlib.pylab as plt # Gaficas"
   ]
  },
  {
   "cell_type": "markdown",
   "metadata": {},
   "source": [
    "Las condiciones iniciales se toman tal que se pone el potencial sobre las placas paralelas"
   ]
  },
  {
   "cell_type": "code",
   "execution_count": 4,
   "metadata": {},
   "outputs": [],
   "source": [
    "def Initial_conditions(Matrix):\n",
    "    for i in range(1,N-1):\n",
    "        for j in range(1,N-1):\n",
    "            if i==int(N/4) and  j>=N/4 and j<=3*N/4:\n",
    "                Matrix[i,j]=1\n",
    "            if i==int(3*N/4) and  j>=N/4 and j<=3*N/4:\n",
    "                Matrix[i,j]=-1"
   ]
  },
  {
   "cell_type": "markdown",
   "metadata": {},
   "source": [
    "La solución de estas ecuaciones, se hace a través de una expansión en Taylor para cada potencial, por lo tanto, la expresión que se encuentre va a depender fuertemente del tipo de ecuación, en el caso de la ecuación de Laplace, después de realizar la expansión se encuentra que para cada punto, la solución está dada por el promedio de sus primeras celdas vecinas.\n",
    "\n",
    "A la hora de programar este problema, es necesario entender un poco cómo funciona este tipo de datos, en lenguajes como `C++` se hace explícito el uso de variables por referencia o por valor, mientras que en `python` no, en este caso, como es una arreglo de numpy se pasa por referencia. "
   ]
  },
  {
   "cell_type": "code",
   "execution_count": 5,
   "metadata": {},
   "outputs": [],
   "source": [
    "def Step(Matrix):\n",
    "    Matrix2=Matrix.copy()\n",
    "    for i in range(1,N-1):\n",
    "        for j in range(1,N-1):\n",
    "            if boundary(i,j):\n",
    "                Matrix[i,j]=(Matrix2[i-1,j]+Matrix2[i+1,j]+Matrix2[i,j-1]+Matrix2[i,j+1])/4"
   ]
  },
  {
   "cell_type": "markdown",
   "metadata": {},
   "source": [
    "En este caso, se utilizan las condiciones de frontera deseadas, es importante enfatizar el hecho de que solamente solucionamos la ecuación en regiones donde no hay distribuciones de carga (Ecuación de Laplace), pero al agregar este tipo de condiciones, se está simulando realmente es la ecuación de Poisson, sólo que las distribuciones se agregan como condiciones de frontera."
   ]
  },
  {
   "cell_type": "code",
   "execution_count": 6,
   "metadata": {},
   "outputs": [],
   "source": [
    "def boundary(i1,j1):\n",
    "    if (i1==int(N/4) and  j1>=N/4 and j1<=3*N/4) or (i1==int(3*N/4) and  j1>=N/4 and j1<=3*N/4):\n",
    "        return False\n",
    "    else:\n",
    "        return True"
   ]
  },
  {
   "cell_type": "code",
   "execution_count": 7,
   "metadata": {},
   "outputs": [],
   "source": [
    "N=50 #Tamano de la matriz en la que se piensa solucionar el problema\n",
    "Matrix=np.array([[0.0]*N for i in range(N)])"
   ]
  },
  {
   "cell_type": "code",
   "execution_count": 8,
   "metadata": {},
   "outputs": [],
   "source": [
    "Times=1000\n",
    "Initial_conditions(Matrix)\n",
    "for i in range(Times):\n",
    "    Step(Matrix)"
   ]
  },
  {
   "cell_type": "code",
   "execution_count": 9,
   "metadata": {},
   "outputs": [
    {
     "data": {
      "text/plain": [
       "<matplotlib.colorbar.Colorbar at 0x7fc51580bcc0>"
      ]
     },
     "execution_count": 9,
     "metadata": {},
     "output_type": "execute_result"
    },
    {
     "data": {
      "image/png": "[encoded data removed]",
      "text/plain": [
       "<Figure size 432x288 with 2 Axes>"
      ]
     },
     "metadata": {
      "needs_background": "light"
     },
     "output_type": "display_data"
    }
   ],
   "source": [
    "fig=plt.figure()\n",
    "ax=fig.add_subplot(111)\n",
    "pl=ax.imshow(Matrix)\n",
    "plt.colorbar(pl)"
   ]
  }
 ],
 "metadata": {
  "kernelspec": {
   "display_name": "Python 3",
   "language": "python",
   "name": "python3"
  },
  "language_info": {
   "codemirror_mode": {
    "name": "ipython",
    "version": 3
   },
   "file_extension": ".py",
   "mimetype": "text/x-python",
   "name": "python",
   "nbconvert_exporter": "python",
   "pygments_lexer": "ipython3",
   "version": "3.6.6"
  }
 },
 "nbformat": 4,
 "nbformat_minor": 2
}
